{
 "cells": [
  {
   "cell_type": "code",
   "execution_count": 2,
   "id": "c78523ef",
   "metadata": {},
   "outputs": [],
   "source": [
    "from selenium import webdriver\n",
    "from selenium.webdriver.chrome.service import Service\n",
    "from webdriver_manager.chrome import ChromeDriverManager\n",
    "from bs4 import BeautifulSoup\n",
    "import pandas as pd\n",
    "import requests\n",
    "import time"
   ]
  },
  {
   "cell_type": "code",
   "execution_count": 2,
   "id": "b89d71b2",
   "metadata": {},
   "outputs": [],
   "source": [
    "class amazon_product_link_scrapper:\n",
    "    def __init__(self):\n",
    "        self.website_url = \"https://www.amazon.in/\"\n",
    "        self.home_page_url = \"https://www.amazon.in/gp/bestsellers/electronics/1805560031\"\n",
    "        self.product_links = []\n",
    "        self.first_review_link = None\n",
    "        self.pageNums = None\n",
    "        self.base_url = None\n",
    "        \n",
    "    def scrape_page_source(self,driver,url):\n",
    "        driver = webdriver.Chrome(service=Service(ChromeDriverManager().install()))  \n",
    "        driver.get(url)\n",
    "        # Scroll Down \n",
    "        SCROLL_PAUSE_TIME = 1\n",
    "        last_height = driver.execute_script(\"return document.body.scrollHeight\") # Get scroll height\n",
    "        while True:\n",
    "            driver.execute_script(\"window.scrollTo(0, document.body.scrollHeight);\") # Scroll down to bottom\n",
    "            time.sleep(SCROLL_PAUSE_TIME) # Wait to load page\n",
    "            # Calculate new scroll height and compare with last scroll height\n",
    "            new_height = driver.execute_script(\"return document.body.scrollHeight\") # Calculate new scroll height\n",
    "            if new_height == last_height:\n",
    "                break\n",
    "            last_height = new_height\n",
    "        return driver.page_source\n",
    "    \n",
    "    def scrape_pagination(self):\n",
    "        driver = webdriver.Chrome(service=Service(ChromeDriverManager().install()))\n",
    "        page_source = self.scrape_page_source(driver,self.home_page_url)\n",
    "        driver.close()\n",
    "        soup = BeautifulSoup(page_source, 'lxml')\n",
    "        # Extracting website url \n",
    "        starting_tag = soup.find_all('li',class_=\"a-selected\")\n",
    "        self.base_url = self.website_url + starting_tag[0].a['href'][:-1]\n",
    "        ending_tag = soup.find_all('li',class_=\"a-last\")\n",
    "        self.pageNums = int(ending_tag[0].a['href'][-1])\n",
    "        self.first_review_link = self.website_url+ending_tag[0].a['href'][:-1]\n",
    "    \n",
    "    def get_product_links(self):\n",
    "        driver = webdriver.Chrome(service=Service(ChromeDriverManager().install())) \n",
    "        for i in range(self.pageNums):\n",
    "            page_link = self.base_url+str(i+1) \n",
    "            page_review = self.scrape_page_source(driver,page_link)\n",
    "            product_soup = BeautifulSoup(page_review, 'lxml')\n",
    "            link_tags = product_soup.find_all('div',id=\"gridItemRoot\")\n",
    "            for i in range(len(link_tags)):\n",
    "                self.product_links.append(self.website_url+link_tags[i].a['href'])\n",
    "        driver.close()\n",
    "        return self.product_links\n",
    "    \n",
    "    def get_review_links(self):\n",
    "        # Go to page\n",
    "        # Scroll Down \n",
    "        # Extract all reviews link\n",
    "        for link in self.product_links:\n",
    "            continue\n",
    "        \n",
    "\n",
    "    def main_scrap(self):\n",
    "        self.scrape_pagination()\n",
    "        return self.get_product_links()"
   ]
  },
  {
   "cell_type": "code",
   "execution_count": 3,
   "id": "51abe21f",
   "metadata": {
    "scrolled": false
   },
   "outputs": [
    {
     "data": {
      "text/plain": [
       "100"
      ]
     },
     "execution_count": 3,
     "metadata": {},
     "output_type": "execute_result"
    }
   ],
   "source": [
    "product_links = amazon_product_link_scrapper().main_scrap()\n",
    "len(product_links)"
   ]
  },
  {
   "cell_type": "code",
   "execution_count": 5,
   "id": "eb621fe9",
   "metadata": {},
   "outputs": [
    {
     "data": {
      "text/plain": [
       "'https://www.amazon.in//OnePlus-Nord-Pastel-128GB-Storage/dp/B0BY8JZ22K/ref=zg_bs_1805560031_sccl_1/258-5426652-5273765?psc=1'"
      ]
     },
     "execution_count": 5,
     "metadata": {},
     "output_type": "execute_result"
    }
   ],
   "source": [
    "product_links[0]"
   ]
  },
  {
   "cell_type": "markdown",
   "id": "12575717",
   "metadata": {},
   "source": [
    "https://www.amazon.in/OnePlus-Nord-Pastel-128GB-Storage/product-reviews/B0BY8JZ22K/ref=cm_cr_dp_d_show_all_btm?ie=UTF8&reviewerType=all_reviews"
   ]
  },
  {
   "cell_type": "code",
   "execution_count": 6,
   "id": "b4415006",
   "metadata": {},
   "outputs": [],
   "source": [
    "test = product_links[0]"
   ]
  },
  {
   "cell_type": "code",
   "execution_count": 7,
   "id": "232c49f7",
   "metadata": {},
   "outputs": [],
   "source": [
    "driver = webdriver.Chrome(service=Service(ChromeDriverManager().install()))\n",
    "driver.get(test)\n",
    "\n",
    "# Scroll Down \n",
    "SCROLL_PAUSE_TIME = 1\n",
    "last_height = driver.execute_script(\"return document.body.scrollHeight\") # Get scroll height\n",
    "while True:\n",
    "    driver.execute_script(\"window.scrollTo(0, document.body.scrollHeight);\") # Scroll down to bottom\n",
    "    time.sleep(SCROLL_PAUSE_TIME) # Wait to load page\n",
    "    # Calculate new scroll height and compare with last scroll height\n",
    "    new_height = driver.execute_script(\"return document.body.scrollHeight\") # Calculate new scroll height\n",
    "    if new_height == last_height:\n",
    "        break\n",
    "    last_height = new_height\n",
    "\n",
    "page_source = driver.page_source"
   ]
  },
  {
   "cell_type": "code",
   "execution_count": 10,
   "id": "4295a81d",
   "metadata": {},
   "outputs": [],
   "source": [
    "soup = BeautifulSoup(page_source, 'lxml')\n",
    "link_of_all_reviews = soup.find_all('a',class_=\"a-link-emphasis a-text-bold\")"
   ]
  },
  {
   "cell_type": "code",
   "execution_count": 16,
   "id": "99b9da01",
   "metadata": {},
   "outputs": [
    {
     "data": {
      "text/plain": [
       "'/OnePlus-Nord-Pastel-128GB-Storage/product-reviews/B0BY8JZ22K/ref=cm_cr_dp_d_show_all_btm?ie=UTF8&reviewerType=all_reviews'"
      ]
     },
     "execution_count": 16,
     "metadata": {},
     "output_type": "execute_result"
    }
   ],
   "source": [
    "link_of_all_reviews[0]['href']"
   ]
  },
  {
   "cell_type": "code",
   "execution_count": 3,
   "id": "327c02e9",
   "metadata": {},
   "outputs": [],
   "source": [
    "link = 'https://www.amazon.in//OnePlus-Nord-Pastel-128GB-Storage/product-reviews/B0BY8JZ22K/ref=cm_cr_dp_d_show_all_btm?ie=UTF8&reviewerType=all_reviews'\n",
    "driver = webdriver.Chrome(service=Service(ChromeDriverManager().install()))\n",
    "driver.get(link)"
   ]
  },
  {
   "cell_type": "code",
   "execution_count": null,
   "id": "97543ffa",
   "metadata": {},
   "outputs": [],
   "source": []
  }
 ],
 "metadata": {
  "kernelspec": {
   "display_name": "mobilesentiment",
   "language": "python",
   "name": "mobilesentiment"
  },
  "language_info": {
   "codemirror_mode": {
    "name": "ipython",
    "version": 3
   },
   "file_extension": ".py",
   "mimetype": "text/x-python",
   "name": "python",
   "nbconvert_exporter": "python",
   "pygments_lexer": "ipython3",
   "version": "3.9.13"
  }
 },
 "nbformat": 4,
 "nbformat_minor": 5
}
