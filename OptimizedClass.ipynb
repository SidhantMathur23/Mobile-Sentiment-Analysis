{
 "cells": [
  {
   "cell_type": "code",
   "execution_count": 3,
   "id": "6fc87a7b",
   "metadata": {},
   "outputs": [],
   "source": [
    "from selenium import webdriver\n",
    "from selenium.webdriver.chrome.service import Service\n",
    "from webdriver_manager.chrome import ChromeDriverManager\n",
    "from bs4 import BeautifulSoup\n",
    "import pandas as pd\n",
    "import requests\n",
    "import time\n",
    "import warnings\n",
    "warnings.filterwarnings('ignore')"
   ]
  },
  {
   "cell_type": "code",
   "execution_count": 6,
   "id": "a33af497",
   "metadata": {},
   "outputs": [],
   "source": [
    "class ReviewLinkScrapper:\n",
    "    def __init__(self):\n",
    "        self.website = \"https://www.amazon.in/\"\n",
    "        self.products_page = \"https://www.amazon.in/gp/bestsellers/electronics/1805560031\"\n",
    "        self.product_links = []        \n",
    "    \n",
    "    def get_page_source(self,driver,url):\n",
    "        driver.get(url)\n",
    "        last_height = driver.execute_script(\"return document.body.scrollHeight\")\n",
    "        while True:\n",
    "            driver.execute_script(\"window.scrollTo(0, document.body.scrollHeight);\") # Scroll down to bottom\n",
    "            time.sleep(2) # Wait to load page\n",
    "            new_height = driver.execute_script(\"return document.body.scrollHeight\") # Calculate new scroll height\n",
    "            if new_height == last_height:\n",
    "                break\n",
    "            last_height = new_height\n",
    "        return driver.page_source\n",
    "    \n",
    "    def get_pagination(self):\n",
    "        driver = webdriver.Chrome(service=Service(ChromeDriverManager().install()))\n",
    "        page_source = self.get_page_source(driver,self.products_page)\n",
    "        driver.close()\n",
    "        soup = BeautifulSoup(page_source, 'lxml')\n",
    "        starting_tag = soup.find_all('li',class_=\"a-selected\")\n",
    "        base_link = self.website + starting_tag[0].a['href'][:-1]\n",
    "        ending_tag = soup.find_all('li',class_=\"a-last\")\n",
    "        pageNums = int(ending_tag[0].a['href'][-1])\n",
    "        return (base_link,pageNums)\n",
    "    \n",
    "    def get_product_links(self,base,pageNums):\n",
    "        product_links = []\n",
    "        driver = webdriver.Chrome(service=Service(ChromeDriverManager().install())) \n",
    "        for i in range(pageNums):\n",
    "            page_link = base+str(i+1) \n",
    "            page_source = self.get_page_source(driver,page_link)\n",
    "            product_soup = BeautifulSoup(page_source, 'lxml')\n",
    "            link_tags = product_soup.find_all('div',id=\"gridItemRoot\")\n",
    "            for i in range(len(link_tags)):\n",
    "                product_links.append(self.website + link_tags[i].a['href'])\n",
    "        driver.close()\n",
    "        return product_links\n",
    "    \n",
    "    def get_review_links(self,product_links):\n",
    "        all_review_links = []\n",
    "        for link in product_links:\n",
    "            driver = webdriver.Chrome(service=Service(ChromeDriverManager().install()))\n",
    "            driver.get(link)\n",
    "            page_source = self.get_page_source(driver,link)\n",
    "            soup = BeautifulSoup(page_source, 'lxml')\n",
    "            link_of_all_reviews = soup.find_all('a',class_=\"a-link-emphasis a-text-bold\")\n",
    "            all_review_links.append(self.website+link_of_all_reviews[0]['href'])\n",
    "            driver.close()\n",
    "        return all_review_links\n",
    "    \n",
    "    def scrape_review_links(self):\n",
    "        (base_link,page_number) = self.get_pagination()\n",
    "        products = self.get_product_links(base_link,page_number)\n",
    "        review_links = self.get_review_links(products)\n",
    "        return review_links"
   ]
  },
  {
   "cell_type": "code",
   "execution_count": 7,
   "id": "d123635c",
   "metadata": {},
   "outputs": [],
   "source": [
    "review_links = ReviewLinkScrapper().scrape_review_links()"
   ]
  },
  {
   "cell_type": "code",
   "execution_count": 8,
   "id": "0fb881ee",
   "metadata": {},
   "outputs": [
    {
     "data": {
      "text/plain": [
       "100"
      ]
     },
     "execution_count": 8,
     "metadata": {},
     "output_type": "execute_result"
    }
   ],
   "source": [
    "len(review_links)"
   ]
  },
  {
   "cell_type": "code",
   "execution_count": 9,
   "id": "6f607fdf",
   "metadata": {},
   "outputs": [
    {
     "data": {
      "text/plain": [
       "'https://www.amazon.in//OnePlus-Nord-Pastel-128GB-Storage/product-reviews/B0BY8JZ22K/ref=cm_cr_dp_d_show_all_btm?ie=UTF8&reviewerType=all_reviews'"
      ]
     },
     "execution_count": 9,
     "metadata": {},
     "output_type": "execute_result"
    }
   ],
   "source": [
    "review_links[0]"
   ]
  },
  {
   "cell_type": "code",
   "execution_count": 11,
   "id": "8e99ab59",
   "metadata": {},
   "outputs": [],
   "source": [
    "file = open('reviewlinks.txt','w')\n",
    "for item in review_links:\n",
    "    file.write(item+\"\\n\")\n",
    "file.close()"
   ]
  },
  {
   "cell_type": "code",
   "execution_count": null,
   "id": "3165dd73",
   "metadata": {},
   "outputs": [],
   "source": [
    "class AmazonReviewScraper:\n",
    "    def __init__(self,review_link):\n",
    "        self.review_page = review_link\n",
    "        "
   ]
  }
 ],
 "metadata": {
  "kernelspec": {
   "display_name": "mobilesentiment",
   "language": "python",
   "name": "mobilesentiment"
  },
  "language_info": {
   "codemirror_mode": {
    "name": "ipython",
    "version": 3
   },
   "file_extension": ".py",
   "mimetype": "text/x-python",
   "name": "python",
   "nbconvert_exporter": "python",
   "pygments_lexer": "ipython3",
   "version": "3.9.13"
  }
 },
 "nbformat": 4,
 "nbformat_minor": 5
}
