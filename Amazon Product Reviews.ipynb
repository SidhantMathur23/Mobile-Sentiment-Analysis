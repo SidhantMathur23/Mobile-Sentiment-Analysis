{
 "cells": [
  {
   "cell_type": "code",
   "execution_count": 1,
   "id": "c0c55de0",
   "metadata": {},
   "outputs": [],
   "source": [
    "from selenium import webdriver\n",
    "from selenium.webdriver.chrome.service import Service\n",
    "from webdriver_manager.chrome import ChromeDriverManager\n",
    "from bs4 import BeautifulSoup\n",
    "import pandas as pd\n",
    "import requests\n",
    "import time\n",
    "import warnings\n",
    "warnings.filterwarnings('ignore')"
   ]
  },
  {
   "cell_type": "code",
   "execution_count": 2,
   "id": "b7711303",
   "metadata": {},
   "outputs": [],
   "source": [
    "def scrape_page_source(driver,url):\n",
    "    driver.get(url)\n",
    "    driver.maximize_window()\n",
    "    driver.implicitly_wait(10)\n",
    "    # Scroll Down \n",
    "    SCROLL_PAUSE_TIME = 0.5\n",
    "    # Get scroll height\n",
    "    last_height = driver.execute_script(\"return document.body.scrollHeight\") \n",
    "    while True:\n",
    "         # Scroll down to bottom\n",
    "        driver.execute_script(\"window.scrollTo(0, document.body.scrollHeight);\")\n",
    "        # Wait to load page\n",
    "        time.sleep(SCROLL_PAUSE_TIME)\n",
    "        # Calculate new scroll height and compare with last scroll height\n",
    "        new_height = driver.execute_script(\"return document.body.scrollHeight\") # Calculate new scroll height\n",
    "        if new_height == last_height:\n",
    "            break\n",
    "        last_height = new_height\n",
    "    return driver.page_source"
   ]
  },
  {
   "cell_type": "code",
   "execution_count": 3,
   "id": "b67db9c0",
   "metadata": {},
   "outputs": [
    {
     "name": "stderr",
     "output_type": "stream",
     "text": [
      "[WDM] - Downloading: 100%|████████████████████████████████████████████████████████| 6.81M/6.81M [00:01<00:00, 4.45MB/s]\n"
     ]
    }
   ],
   "source": [
    "home_page_url = \"https://www.amazon.in/gp/bestsellers/electronics/1805560031\"\n",
    "driver = webdriver.Chrome(service=Service(ChromeDriverManager().install()))  \n",
    "page_source = scrape_page_source(driver,home_page_url)\n",
    "driver.close()\n",
    "\n",
    "soup = BeautifulSoup(page_source, 'lxml')\n",
    "domain = \"https://www.amazon.in/\"\n",
    "\n",
    "# Extracting website url \n",
    "starting_tag = soup.find_all('li',class_=\"a-selected\")\n",
    "base_url = domain+starting_tag[0].a['href'][:-1]\n",
    "ending_tag = soup.find_all('li',class_=\"a-last\")\n",
    "endPageNum = int(ending_tag[0].a['href'][-1])"
   ]
  },
  {
   "cell_type": "code",
   "execution_count": 10,
   "id": "9e77dbcc",
   "metadata": {},
   "outputs": [
    {
     "name": "stdout",
     "output_type": "stream",
     "text": [
      "100\n"
     ]
    }
   ],
   "source": [
    "driver = webdriver.Chrome(service=Service(ChromeDriverManager().install())) \n",
    "driver.maximize_window()\n",
    "product_links = []\n",
    "\n",
    "for i in range(endPageNum):\n",
    "    page_link = base_url+str(i+1) \n",
    "    page_review = scrape_page_source(driver,page_link)\n",
    "    product_soup = BeautifulSoup(page_review, 'lxml')\n",
    "    link_tags = product_soup.find_all('div',id=\"gridItemRoot\")\n",
    "    for i in range(len(link_tags)):\n",
    "        product_links.append(domain+link_tags[i].a['href'])\n",
    "driver.close()\n",
    "\n",
    "print(len(product_links))"
   ]
  },
  {
   "cell_type": "markdown",
   "id": "bda604e0",
   "metadata": {},
   "source": [
    "## Scrape Reviews"
   ]
  },
  {
   "cell_type": "code",
   "execution_count": 5,
   "id": "4a2b8fe0",
   "metadata": {},
   "outputs": [
    {
     "name": "stdout",
     "output_type": "stream",
     "text": [
      "https://www.amazon.in//realme-Oxygen-Storage-Processor-Battery/product-reviews/B09FKDB27R/ref=cm_cr_dp_d_show_all_btm?ie=UTF8&reviewerType=all_reviews\n"
     ]
    }
   ],
   "source": [
    "practice_link = product_links[0]      # Practice link\n",
    "driver = webdriver.Chrome(service=Service(ChromeDriverManager().install())) # Chrome Driver\n",
    "driver.get(practice_link)  # GET Request to mentioned link\n",
    "product_soup = BeautifulSoup(driver.page_source, 'lxml')  # Create soup objct using page source \n",
    "driver.close()\n",
    "tags = product_soup.find_all('a',class_='a-link-emphasis a-text-bold')  # Locate \"See all reviews button\" on product page\n",
    "print(domain+tags[0]['href'])  # Link for all reviews"
   ]
  },
  {
   "cell_type": "code",
   "execution_count": 6,
   "id": "ea552ed7",
   "metadata": {},
   "outputs": [],
   "source": [
    "driver = webdriver.Chrome(service=Service(ChromeDriverManager().install())) \n",
    "driver.get(practice_link)\n",
    "product_soup = BeautifulSoup(driver.page_source, 'lxml')"
   ]
  },
  {
   "cell_type": "code",
   "execution_count": 7,
   "id": "7d35bd73",
   "metadata": {
    "scrolled": false
   },
   "outputs": [],
   "source": [
    "tags = product_soup.find_all('a',class_='a-link-emphasis a-text-bold')"
   ]
  },
  {
   "cell_type": "code",
   "execution_count": 8,
   "id": "8aa1f98f",
   "metadata": {},
   "outputs": [
    {
     "data": {
      "text/plain": [
       "'/realme-Oxygen-Storage-Processor-Battery/product-reviews/B09FKDB27R/ref=cm_cr_dp_d_show_all_btm?ie=UTF8&reviewerType=all_reviews'"
      ]
     },
     "execution_count": 8,
     "metadata": {},
     "output_type": "execute_result"
    }
   ],
   "source": [
    "tags[0]['href']"
   ]
  },
  {
   "cell_type": "code",
   "execution_count": 15,
   "id": "6ac1ad7b",
   "metadata": {},
   "outputs": [],
   "source": [
    "link = \"https://www.amazon.in/Samsung-Storage-Battery-Octa-Core-Processor/product-reviews/B0BZCSNTT4/ref=cm_cr_arp_d_paging_btm_prev_1?ie=UTF8&pageNumber=1&reviewerType=all_reviews\"\n",
    "# link = \"https://www.amazon.in/Samsung-Storage-Battery-Octa-Core-Processor/product-reviews/B0BZCSNTT4/ref=cm_cr_dp_d_show_all_btm?ie=UTF8&reviewerType=all_reviews\"\n",
    "driver = webdriver.Chrome(service=Service(ChromeDriverManager().install())) \n",
    "driver.get(link)"
   ]
  },
  {
   "cell_type": "code",
   "execution_count": null,
   "id": "3f6e6e1d",
   "metadata": {},
   "outputs": [],
   "source": []
  }
 ],
 "metadata": {
  "kernelspec": {
   "display_name": "mobilesentiment",
   "language": "python",
   "name": "mobilesentiment"
  },
  "language_info": {
   "codemirror_mode": {
    "name": "ipython",
    "version": 3
   },
   "file_extension": ".py",
   "mimetype": "text/x-python",
   "name": "python",
   "nbconvert_exporter": "python",
   "pygments_lexer": "ipython3",
   "version": "3.9.13"
  }
 },
 "nbformat": 4,
 "nbformat_minor": 5
}
